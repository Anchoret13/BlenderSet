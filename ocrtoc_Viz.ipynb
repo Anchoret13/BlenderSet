{
 "cells": [
  {
   "cell_type": "code",
   "execution_count": 1,
   "id": "4d6d77cd",
   "metadata": {},
   "outputs": [],
   "source": [
    "import trimesh\n",
    "import pyrender\n",
    "import cv2"
   ]
  },
  {
   "cell_type": "code",
   "execution_count": 2,
   "id": "26f718c8",
   "metadata": {},
   "outputs": [],
   "source": [
    "import os\n",
    "from PIL import Image"
   ]
  },
  {
   "cell_type": "code",
   "execution_count": 3,
   "id": "d66953b7",
   "metadata": {},
   "outputs": [],
   "source": [
    "import open3d as o3d"
   ]
  },
  {
   "cell_type": "code",
   "execution_count": 4,
   "id": "5e84d422",
   "metadata": {},
   "outputs": [],
   "source": [
    "def PNG_JPG(PngPath):\n",
    "    img = cv2.imread(PngPath, 0)\n",
    "    w, h = img.shape[::-1]\n",
    "    infile = PngPath\n",
    "    outfile = os.path.splitext(infile)[0] + \".jpg\"\n",
    "    img = Image.open(infile)\n",
    "    img = img.resize((int(w / 2), int(h / 2)), Image.ANTIALIAS)\n",
    "    try:\n",
    "        if len(img.split()) == 4:\n",
    "            # prevent IOError: cannot write mode RGBA as BMP\n",
    "            r, g, b, a = img.split()\n",
    "            img = Image.merge(\"RGB\", (r, g, b))\n",
    "            img.convert('RGB').save(outfile, quality=70)\n",
    "            os.remove(PngPath)\n",
    "        else:\n",
    "            img.convert('RGB').save(outfile, quality=70)\n",
    "            os.remove(PngPath)\n",
    "        return outfile\n",
    "    except Exception as e:\n",
    "        print(\"ERROR!\", e)"
   ]
  },
  {
   "cell_type": "code",
   "execution_count": 5,
   "id": "dc4ba31d",
   "metadata": {
    "scrolled": false
   },
   "outputs": [
    {
     "name": "stdout",
     "output_type": "stream",
     "text": [
      "[Open3D INFO] Skipping non-triangle primitive geometry of type: 2\n",
      "\u001b[1;33m[Open3D WARNING] Read geometry::Image failed: file extension png  unknown\u001b[0;m\n",
      "\u001b[1;33m[Open3D WARNING] Read geometry::Image failed: file extension png  unknown\u001b[0;m\n",
      "\u001b[1;33m[Open3D WARNING] Read geometry::Image failed: file extension png  unknown\u001b[0;m\n",
      "[Open3D INFO] Skipping non-triangle primitive geometry of type: 2\n",
      "\u001b[1;33m[Open3D WARNING] Read geometry::Image failed: file extension png  unknown\u001b[0;m\n",
      "\u001b[1;33m[Open3D WARNING] Read geometry::Image failed: file extension png  unknown\u001b[0;m\n",
      "[Open3D INFO] Skipping non-triangle primitive geometry of type: 2\n",
      "\u001b[1;33m[Open3D WARNING] Read geometry::Image failed: file extension png  unknown\u001b[0;m\n",
      "\u001b[1;33m[Open3D WARNING] Read geometry::Image failed: file extension png  unknown\u001b[0;m\n",
      "\u001b[1;33m[Open3D WARNING] Read geometry::Image failed: file extension png  unknown\u001b[0;m\n",
      "[Open3D INFO] Skipping non-triangle primitive geometry of type: 2\n",
      "\u001b[1;33m[Open3D WARNING] Read geometry::Image failed: file extension png  unknown\u001b[0;m\n",
      "\u001b[1;33m[Open3D WARNING] Read geometry::Image failed: file extension png  unknown\u001b[0;m\n",
      "\u001b[1;33m[Open3D WARNING] Read geometry::Image failed: file extension png  unknown\u001b[0;m\n",
      "\u001b[1;33m[Open3D WARNING] Read geometry::Image failed: file extension png  unknown\u001b[0;m\n",
      "\u001b[1;33m[Open3D WARNING] Read geometry::Image failed: file extension png  unknown\u001b[0;m\n",
      "[Open3D INFO] Skipping non-triangle primitive geometry of type: 2\n",
      "\u001b[1;33m[Open3D WARNING] Read geometry::Image failed: file extension png  unknown\u001b[0;m\n",
      "\u001b[1;33m[Open3D WARNING] Read geometry::Image failed: file extension png  unknown\u001b[0;m\n",
      "[Open3D INFO] Skipping non-triangle primitive geometry of type: 2\n",
      "\u001b[1;33m[Open3D WARNING] Read geometry::Image failed: file extension png  unknown\u001b[0;m\n",
      "[Open3D INFO] Skipping non-triangle primitive geometry of type: 2\n",
      "\u001b[1;33m[Open3D WARNING] Read geometry::Image failed: file extension png  unknown\u001b[0;m\n",
      "\u001b[1;33m[Open3D WARNING] Read geometry::Image failed: file extension png  unknown\u001b[0;m\n",
      "\u001b[1;33m[Open3D WARNING] Read geometry::Image failed: file extension png  unknown\u001b[0;m\n",
      "[Open3D INFO] Skipping non-triangle primitive geometry of type: 2\n",
      "\u001b[1;33m[Open3D WARNING] Read geometry::Image failed: file extension png  unknown\u001b[0;m\n",
      "\u001b[1;33m[Open3D WARNING] Read geometry::Image failed: file extension png  unknown\u001b[0;m\n",
      "\u001b[1;33m[Open3D WARNING] Read geometry::Image failed: file extension png  unknown\u001b[0;m\n",
      "\u001b[1;33m[Open3D WARNING] Read geometry::Image failed: file extension png  unknown\u001b[0;m\n",
      "\u001b[1;33m[Open3D WARNING] Read geometry::Image failed: file extension png  unknown\u001b[0;m\n",
      "\u001b[1;33m[Open3D WARNING] Read geometry::Image failed: file extension png  unknown\u001b[0;m\n",
      "\u001b[1;33m[Open3D WARNING] Read geometry::Image failed: file extension png  unknown\u001b[0;m\n",
      "\u001b[1;33m[Open3D WARNING] Read geometry::Image failed: file extension png  unknown\u001b[0;m\n",
      "\u001b[1;33m[Open3D WARNING] Read geometry::Image failed: file extension png  unknown\u001b[0;m\n",
      "[Open3D INFO] Skipping non-triangle primitive geometry of type: 2\n",
      "\u001b[1;33m[Open3D WARNING] Read geometry::Image failed: file extension png  unknown\u001b[0;m\n",
      "\u001b[1;33m[Open3D WARNING] Read geometry::Image failed: file extension png  unknown\u001b[0;m\n",
      "\u001b[1;33m[Open3D WARNING] Read geometry::Image failed: file extension png  unknown\u001b[0;m\n",
      "\u001b[1;33m[Open3D WARNING] Read geometry::Image failed: file extension png  unknown\u001b[0;m\n",
      "\u001b[1;33m[Open3D WARNING] Read geometry::Image failed: file extension png  unknown\u001b[0;m\n",
      "\u001b[1;33m[Open3D WARNING] Read geometry::Image failed: file extension png  unknown\u001b[0;m\n",
      "\u001b[1;33m[Open3D WARNING] Read geometry::Image failed: file extension png  unknown\u001b[0;m\n",
      "\u001b[1;33m[Open3D WARNING] Read geometry::Image failed: file extension png  unknown\u001b[0;m\n",
      "\u001b[1;33m[Open3D WARNING] Read geometry::Image failed: file extension png  unknown\u001b[0;m\n",
      "[Open3D INFO] Skipping non-triangle primitive geometry of type: 2\n",
      "\u001b[1;33m[Open3D WARNING] Read geometry::Image failed: file extension png  unknown\u001b[0;m\n",
      "\u001b[1;33m[Open3D WARNING] Read geometry::Image failed: file extension png  unknown\u001b[0;m\n",
      "\u001b[1;33m[Open3D WARNING] Read geometry::Image failed: file extension png  unknown\u001b[0;m\n",
      "[Open3D INFO] Skipping non-triangle primitive geometry of type: 2\n",
      "\u001b[1;33m[Open3D WARNING] Read geometry::Image failed: file extension png  unknown\u001b[0;m\n",
      "[Open3D INFO] Skipping non-triangle primitive geometry of type: 2\n",
      "\u001b[1;33m[Open3D WARNING] Read geometry::Image failed: file extension png  unknown\u001b[0;m\n",
      "[Open3D INFO] Skipping non-triangle primitive geometry of type: 2\n",
      "\u001b[1;33m[Open3D WARNING] Read geometry::Image failed: file extension png  unknown\u001b[0;m\n",
      "\u001b[1;33m[Open3D WARNING] Read geometry::Image failed: file extension png  unknown\u001b[0;m\n",
      "\u001b[1;33m[Open3D WARNING] Read geometry::Image failed: file extension png  unknown\u001b[0;m\n",
      "\u001b[1;33m[Open3D WARNING] Read geometry::Image failed: file extension png  unknown\u001b[0;m\n",
      "\u001b[1;33m[Open3D WARNING] Read geometry::Image failed: file extension png  unknown\u001b[0;m\n",
      "[Open3D INFO] Skipping non-triangle primitive geometry of type: 2\n",
      "\u001b[1;33m[Open3D WARNING] Read geometry::Image failed: file extension png  unknown\u001b[0;m\n",
      "[Open3D INFO] Skipping non-triangle primitive geometry of type: 2\n",
      "\u001b[1;33m[Open3D WARNING] Read geometry::Image failed: file extension png  unknown\u001b[0;m\n",
      "\u001b[1;33m[Open3D WARNING] Read geometry::Image failed: file extension png  unknown\u001b[0;m\n",
      "[Open3D INFO] Skipping non-triangle primitive geometry of type: 2\n",
      "\u001b[1;33m[Open3D WARNING] Read geometry::Image failed: file extension png  unknown\u001b[0;m\n",
      "\u001b[1;33m[Open3D WARNING] Read geometry::Image failed: file extension png  unknown\u001b[0;m\n",
      "\u001b[1;33m[Open3D WARNING] Read geometry::Image failed: file extension png  unknown\u001b[0;m\n",
      "\u001b[1;33m[Open3D WARNING] Read geometry::Image failed: file extension png  unknown\u001b[0;m\n"
     ]
    }
   ],
   "source": [
    "filepath = \"./\"\n",
    "obj_list = os.listdir(filepath)\n",
    "\n",
    "\n",
    "def visualize(mesh):\n",
    "    vis = o3d.visualization.Visualizer()\n",
    "    vis.create_window()\n",
    "    vis.add_geometry(mesh)\n",
    "    vis.capture_screen_image('',true)\n",
    "    vis.run()\n",
    "    vis.destroy_window()\n",
    "\n",
    "for i, obj in enumerate(obj_list):\n",
    "    folder = os.path.join(filepath, obj)    \n",
    "    mesh_path = os.path.join(filepath, obj, 'meshes', 'textured.obj')\n",
    "    if os.path.exists(mesh_path):\n",
    "        #texture = cv2.imread(texture_path)\n",
    "        mesh = o3d.io.read_triangle_mesh(mesh_path, True)\n",
    "        #mesh.textures = [o3d.geometry.Image(texture)]\n",
    "        #o3d.visualization.draw_geometries([mesh])\n",
    "        vis = o3d.visualization.Visualizer()\n",
    "        vis.create_window()\n",
    "        vis.add_geometry(mesh)\n",
    "        vis.capture_screen_image(f'{folder}.png',True)\n",
    "        vis.run()\n",
    "        vis.destroy_window()\n",
    "\n",
    "        "
   ]
  },
  {
   "cell_type": "code",
   "execution_count": null,
   "id": "607bbc75",
   "metadata": {},
   "outputs": [],
   "source": []
  }
 ],
 "metadata": {
  "kernelspec": {
   "display_name": "Python 3",
   "language": "python",
   "name": "python3"
  },
  "language_info": {
   "codemirror_mode": {
    "name": "ipython",
    "version": 3
   },
   "file_extension": ".py",
   "mimetype": "text/x-python",
   "name": "python",
   "nbconvert_exporter": "python",
   "pygments_lexer": "ipython3",
   "version": "3.8.8"
  }
 },
 "nbformat": 4,
 "nbformat_minor": 5
}
